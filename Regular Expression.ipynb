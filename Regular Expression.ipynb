{
 "cells": [
  {
   "cell_type": "markdown",
   "metadata": {},
   "source": [
    "# Regular Expression"
   ]
  },
  {
   "cell_type": "code",
   "execution_count": 1,
   "metadata": {},
   "outputs": [],
   "source": [
    "import re"
   ]
  },
  {
   "cell_type": "code",
   "execution_count": 2,
   "metadata": {},
   "outputs": [],
   "source": [
    "text = \"\"\"\n",
    "\n",
    "this is. my name aniket.\n",
    "my self aniket .\n",
    "byt hte way who r you !\n",
    "abcd\n",
    "ABCD\n",
    "9250025990\n",
    "7922244222\n",
    "\n",
    "Mr. aniket\n",
    "Mrs. shubhi  \n",
    "Mrs. Dhuba\n",
    "Mr. sam\n",
    "Mr. OBAMA\n",
    "\n",
    "! @ % ^ # @ @ ^ & ! *\n",
    "\n",
    "CoreyMSchafer@gmail.com\n",
    "corey.schafer@university.edu\n",
    "corey-321-schafer@my-work.net\n",
    "\n",
    "abc@gmail.com\n",
    "\n",
    "992-999-2242\n",
    "233.663.2222\n",
    "123*456*5241\n",
    "800-344-4523\n",
    "900-322-4755\n",
    "\n",
    "https://www.google.com\n",
    "http://coreyms.com\n",
    "https://youtube.com\n",
    "https://www.nasa.gov\n",
    "\n",
    "mat\n",
    "cat \n",
    "bat\n",
    "lat \n",
    "\n",
    "Mr. Aniket\n",
    "Mrs Sammy\n",
    "Mr Guruji\n",
    "Mr. John\n",
    "\n",
    "\"\"\""
   ]
  },
  {
   "cell_type": "code",
   "execution_count": 3,
   "metadata": {},
   "outputs": [],
   "source": [
    "sentence = 'my name is aniket '"
   ]
  },
  {
   "cell_type": "markdown",
   "metadata": {},
   "source": [
    "# finditer()"
   ]
  },
  {
   "cell_type": "markdown",
   "metadata": {},
   "source": [
    "#### Finding 'abc' string in text ....  "
   ]
  },
  {
   "cell_type": "code",
   "execution_count": 4,
   "metadata": {},
   "outputs": [
    {
     "name": "stdout",
     "output_type": "stream",
     "text": [
      "<re.Match object; span=(68, 71), match='abc'>\n",
      "<re.Match object; span=(263, 266), match='abc'>\n"
     ]
    }
   ],
   "source": [
    "pattern = re.compile(r'abc')\n",
    "\n",
    "matches = pattern.finditer(text)\n",
    "\n",
    "for match in matches:\n",
    "    print(match)"
   ]
  },
  {
   "cell_type": "code",
   "execution_count": 5,
   "metadata": {},
   "outputs": [
    {
     "data": {
      "text/plain": [
       "('abc', 'abc')"
      ]
     },
     "execution_count": 5,
     "metadata": {},
     "output_type": "execute_result"
    }
   ],
   "source": [
    "text[68:71] , text[263:266]"
   ]
  },
  {
   "cell_type": "markdown",
   "metadata": {},
   "source": [
    "#### Finding a special character from the text = .\n",
    "\n",
    "#### Note .... --> if we simply write . it will give all characters from the text"
   ]
  },
  {
   "cell_type": "code",
   "execution_count": 6,
   "metadata": {},
   "outputs": [
    {
     "name": "stdout",
     "output_type": "stream",
     "text": [
      "<re.Match object; span=(9, 10), match='.'>\n",
      "<re.Match object; span=(25, 26), match='.'>\n",
      "<re.Match object; span=(42, 43), match='.'>\n",
      "<re.Match object; span=(103, 104), match='.'>\n",
      "<re.Match object; span=(115, 116), match='.'>\n",
      "<re.Match object; span=(129, 130), match='.'>\n",
      "<re.Match object; span=(139, 140), match='.'>\n",
      "<re.Match object; span=(147, 148), match='.'>\n",
      "<re.Match object; span=(198, 199), match='.'>\n",
      "<re.Match object; span=(208, 209), match='.'>\n",
      "<re.Match object; span=(227, 228), match='.'>\n",
      "<re.Match object; span=(257, 258), match='.'>\n",
      "<re.Match object; span=(272, 273), match='.'>\n",
      "<re.Match object; span=(294, 295), match='.'>\n",
      "<re.Match object; span=(298, 299), match='.'>\n",
      "<re.Match object; span=(355, 356), match='.'>\n",
      "<re.Match object; span=(362, 363), match='.'>\n",
      "<re.Match object; span=(381, 382), match='.'>\n",
      "<re.Match object; span=(401, 402), match='.'>\n",
      "<re.Match object; span=(417, 418), match='.'>\n",
      "<re.Match object; span=(422, 423), match='.'>\n",
      "<re.Match object; span=(449, 450), match='.'>\n",
      "<re.Match object; span=(480, 481), match='.'>\n"
     ]
    }
   ],
   "source": [
    "pattern = re.compile(r'\\.')   # . is a special character in re  so always use \\. for finding fullstop. \n",
    "                             \n",
    "matches = pattern.finditer(text)\n",
    "for match in matches:\n",
    "    print(match)"
   ]
  },
  {
   "cell_type": "markdown",
   "metadata": {},
   "source": [
    "####  Three digit number ...."
   ]
  },
  {
   "cell_type": "code",
   "execution_count": 7,
   "metadata": {},
   "outputs": [
    {
     "name": "stdout",
     "output_type": "stream",
     "text": [
      "<re.Match object; span=(78, 81), match='925'>\n",
      "<re.Match object; span=(81, 84), match='002'>\n",
      "<re.Match object; span=(84, 87), match='599'>\n",
      "<re.Match object; span=(89, 92), match='792'>\n",
      "<re.Match object; span=(92, 95), match='224'>\n",
      "<re.Match object; span=(95, 98), match='422'>\n",
      "<re.Match object; span=(238, 241), match='321'>\n",
      "<re.Match object; span=(278, 281), match='992'>\n",
      "<re.Match object; span=(282, 285), match='999'>\n",
      "<re.Match object; span=(286, 289), match='224'>\n",
      "<re.Match object; span=(291, 294), match='233'>\n",
      "<re.Match object; span=(295, 298), match='663'>\n",
      "<re.Match object; span=(299, 302), match='222'>\n",
      "<re.Match object; span=(304, 307), match='123'>\n",
      "<re.Match object; span=(308, 311), match='456'>\n",
      "<re.Match object; span=(312, 315), match='524'>\n",
      "<re.Match object; span=(317, 320), match='800'>\n",
      "<re.Match object; span=(321, 324), match='344'>\n",
      "<re.Match object; span=(325, 328), match='452'>\n",
      "<re.Match object; span=(330, 333), match='900'>\n",
      "<re.Match object; span=(334, 337), match='322'>\n",
      "<re.Match object; span=(338, 341), match='475'>\n"
     ]
    }
   ],
   "source": [
    "pattern = re.compile(r'\\d\\d\\d')\n",
    "\n",
    "matches = pattern.finditer(text)\n",
    "\n",
    "for match in matches:\n",
    "    print(match)"
   ]
  },
  {
   "cell_type": "code",
   "execution_count": 8,
   "metadata": {},
   "outputs": [
    {
     "name": "stdout",
     "output_type": "stream",
     "text": [
      "<re.Match object; span=(278, 290), match='992-999-2242'>\n",
      "<re.Match object; span=(291, 303), match='233.663.2222'>\n",
      "<re.Match object; span=(304, 316), match='123*456*5241'>\n",
      "<re.Match object; span=(317, 329), match='800-344-4523'>\n",
      "<re.Match object; span=(330, 342), match='900-322-4755'>\n"
     ]
    }
   ],
   "source": [
    "# it will find numbers with any sperate between them\n",
    "\n",
    "pattern = re.compile(r'\\d\\d\\d.\\d\\d\\d.\\d\\d\\d\\d')\n",
    "\n",
    "matches = pattern.finditer(text)\n",
    "\n",
    "for match in matches:\n",
    "    print(match)\n"
   ]
  },
  {
   "cell_type": "code",
   "execution_count": 9,
   "metadata": {},
   "outputs": [
    {
     "name": "stdout",
     "output_type": "stream",
     "text": [
      "<re.Match object; span=(278, 290), match='992-999-2242'>\n",
      "<re.Match object; span=(291, 303), match='233.663.2222'>\n",
      "<re.Match object; span=(304, 316), match='123*456*5241'>\n",
      "<re.Match object; span=(317, 329), match='800-344-4523'>\n",
      "<re.Match object; span=(330, 342), match='900-322-4755'>\n"
     ]
    }
   ],
   "source": [
    "# Quantifiers {3} indicate exactly 3 numbers ..\n",
    "\n",
    "pattern = re.compile(r'\\d{3}.\\d{3}.\\d{4}')\n",
    "\n",
    "matches = pattern.finditer(text)\n",
    "\n",
    "for match in matches:\n",
    "    print(match)\n"
   ]
  },
  {
   "cell_type": "code",
   "execution_count": 10,
   "metadata": {},
   "outputs": [
    {
     "name": "stdout",
     "output_type": "stream",
     "text": [
      "<re.Match object; span=(278, 290), match='992-999-2242'>\n",
      "<re.Match object; span=(291, 303), match='233.663.2222'>\n",
      "<re.Match object; span=(317, 329), match='800-344-4523'>\n",
      "<re.Match object; span=(330, 342), match='900-322-4755'>\n"
     ]
    }
   ],
   "source": [
    "# it will find numbers with . or - sperate between them\n",
    "\n",
    "pattern = re.compile(r'\\d\\d\\d[.-]\\d\\d\\d[.-]\\d\\d\\d\\d')\n",
    "\n",
    "matches = pattern.finditer(text)\n",
    "\n",
    "for match in matches:\n",
    "    print(match)\n"
   ]
  },
  {
   "cell_type": "code",
   "execution_count": 11,
   "metadata": {},
   "outputs": [
    {
     "name": "stdout",
     "output_type": "stream",
     "text": [
      "<re.Match object; span=(317, 329), match='800-344-4523'>\n",
      "<re.Match object; span=(330, 342), match='900-322-4755'>\n"
     ]
    }
   ],
   "source": [
    "## Find the number starting with 800 and 900\n",
    "\n",
    "\n",
    "pattern = re.compile(r'[98]00[.-]\\d\\d\\d[.-]\\d\\d\\d\\d')\n",
    "\n",
    "matches = pattern.finditer(text)\n",
    "\n",
    "for match in matches:\n",
    "    print(match)\n"
   ]
  },
  {
   "cell_type": "code",
   "execution_count": 12,
   "metadata": {},
   "outputs": [
    {
     "name": "stdout",
     "output_type": "stream",
     "text": [
      "<re.Match object; span=(428, 431), match='mat'>\n",
      "<re.Match object; span=(432, 435), match='cat'>\n",
      "<re.Match object; span=(441, 444), match='lat'>\n"
     ]
    }
   ],
   "source": [
    "# Find all words ending with at but it should not start with b ?\n",
    "\n",
    "pattern = re.compile(r'[^b]at')   # ^ stands for not..\n",
    "\n",
    "matches = pattern.finditer(text)\n",
    "\n",
    "for match in matches:\n",
    "    print(match)"
   ]
  },
  {
   "cell_type": "code",
   "execution_count": 13,
   "metadata": {},
   "outputs": [
    {
     "name": "stdout",
     "output_type": "stream",
     "text": [
      "<re.Match object; span=(101, 111), match='Mr. aniket'>\n",
      "<re.Match object; span=(112, 125), match='Mrs. shubhi  '>\n",
      "<re.Match object; span=(126, 136), match='Mrs. Dhuba'>\n",
      "<re.Match object; span=(137, 144), match='Mr. sam'>\n",
      "<re.Match object; span=(145, 154), match='Mr. OBAMA'>\n",
      "<re.Match object; span=(447, 457), match='Mr. Aniket'>\n",
      "<re.Match object; span=(458, 467), match='Mrs Sammy'>\n",
      "<re.Match object; span=(468, 477), match='Mr Guruji'>\n",
      "<re.Match object; span=(478, 486), match='Mr. John'>\n"
     ]
    }
   ],
   "source": [
    "# Find all person name starting with Mr or Mrs\n",
    "pattern = re.compile(r'Mr[ \\.a-zA-z]+')   # ^ stands for not..\n",
    "\n",
    "matches = pattern.finditer(text)\n",
    "\n",
    "for match in matches:\n",
    "    print(match)"
   ]
  },
  {
   "cell_type": "code",
   "execution_count": null,
   "metadata": {},
   "outputs": [],
   "source": []
  },
  {
   "cell_type": "markdown",
   "metadata": {},
   "source": [
    "# Read the Data File ... And Find The Content.."
   ]
  },
  {
   "cell_type": "code",
   "execution_count": 14,
   "metadata": {},
   "outputs": [],
   "source": [
    "with open('data.txt','r') as f:\n",
    "    content = f.read()"
   ]
  },
  {
   "cell_type": "code",
   "execution_count": 15,
   "metadata": {},
   "outputs": [
    {
     "name": "stdout",
     "output_type": "stream",
     "text": [
      "  \n",
      "Dave Martin\n",
      "615-555-7164\n",
      "173 Main St., Springfield RI 55924\n",
      "davemartin@bogusemail.com\n",
      "\n",
      "Charles Harris\n",
      "800-555-5669\n",
      "969 High St., Atlantis VA 34075\n",
      "charlesharris@bogusemail.com\n",
      "\n",
      "Eric Williams\n",
      "560-55\n"
     ]
    }
   ],
   "source": [
    "# sample data ...\n",
    "print(content[:200]) "
   ]
  },
  {
   "cell_type": "markdown",
   "metadata": {},
   "source": [
    "## Find all phone matches to the pattern.. from the text file "
   ]
  },
  {
   "cell_type": "code",
   "execution_count": 16,
   "metadata": {},
   "outputs": [
    {
     "name": "stdout",
     "output_type": "stream",
     "text": [
      "<re.Match object; span=(15, 27), match='615-555-7164'>\n",
      "<re.Match object; span=(105, 117), match='800-555-5669'>\n",
      "<re.Match object; span=(194, 206), match='560-555-5153'>\n",
      "<re.Match object; span=(284, 296), match='900-555-9340'>\n",
      "<re.Match object; span=(381, 393), match='714-555-7405'>\n",
      "<re.Match object; span=(470, 482), match='800-555-6771'>\n",
      "<re.Match object; span=(560, 572), match='783-555-4799'>\n",
      "<re.Match object; span=(650, 662), match='516-555-4615'>\n",
      "<re.Match object; span=(743, 755), match='127-555-1867'>\n",
      "<re.Match object; span=(834, 846), match='608-555-4938'>\n",
      "<re.Match object; span=(920, 932), match='568-555-6051'>\n",
      "<re.Match object; span=(1008, 1020), match='292-555-1875'>\n",
      "<re.Match object; span=(1096, 1108), match='900-555-3205'>\n",
      "<re.Match object; span=(1185, 1197), match='614-555-1166'>\n",
      "<re.Match object; span=(1276, 1288), match='530-555-2676'>\n",
      "<re.Match object; span=(1362, 1374), match='470-555-2750'>\n",
      "<re.Match object; span=(1446, 1458), match='800-555-6089'>\n",
      "<re.Match object; span=(1533, 1545), match='880-555-8319'>\n",
      "<re.Match object; span=(1621, 1633), match='777-555-8378'>\n",
      "<re.Match object; span=(1704, 1716), match='998-555-7385'>\n",
      "<re.Match object; span=(1797, 1809), match='800-555-7100'>\n",
      "<re.Match object; span=(1881, 1893), match='903-555-8277'>\n",
      "<re.Match object; span=(1969, 1981), match='196-555-5674'>\n",
      "<re.Match object; span=(2058, 2070), match='900-555-5118'>\n",
      "<re.Match object; span=(2142, 2154), match='905-555-1630'>\n",
      "<re.Match object; span=(2223, 2235), match='203-555-3475'>\n",
      "<re.Match object; span=(2307, 2319), match='884-555-8444'>\n",
      "<re.Match object; span=(2394, 2406), match='904-555-8559'>\n",
      "<re.Match object; span=(2482, 2494), match='889-555-7393'>\n",
      "<re.Match object; span=(2569, 2581), match='195-555-2405'>\n",
      "<re.Match object; span=(2654, 2666), match='321-555-9053'>\n",
      "<re.Match object; span=(2741, 2753), match='133-555-1711'>\n",
      "<re.Match object; span=(2833, 2845), match='900-555-5428'>\n",
      "<re.Match object; span=(2922, 2934), match='760-555-7147'>\n",
      "<re.Match object; span=(3021, 3033), match='391-555-6621'>\n",
      "<re.Match object; span=(3112, 3124), match='932-555-7724'>\n",
      "<re.Match object; span=(3201, 3213), match='609-555-7908'>\n",
      "<re.Match object; span=(3293, 3305), match='800-555-8810'>\n",
      "<re.Match object; span=(3381, 3393), match='149-555-7657'>\n",
      "<re.Match object; span=(3461, 3473), match='130-555-9709'>\n",
      "<re.Match object; span=(3544, 3556), match='143-555-9295'>\n",
      "<re.Match object; span=(3633, 3645), match='903-555-9878'>\n",
      "<re.Match object; span=(3723, 3735), match='574-555-3194'>\n",
      "<re.Match object; span=(3811, 3823), match='496-555-7533'>\n",
      "<re.Match object; span=(3896, 3908), match='210-555-3757'>\n",
      "<re.Match object; span=(3980, 3992), match='900-555-9598'>\n",
      "<re.Match object; span=(4065, 4077), match='866-555-9844'>\n",
      "<re.Match object; span=(4149, 4161), match='669-555-7159'>\n",
      "<re.Match object; span=(4234, 4246), match='152-555-7417'>\n",
      "<re.Match object; span=(4326, 4338), match='893-555-9832'>\n",
      "<re.Match object; span=(4416, 4428), match='217-555-7123'>\n",
      "<re.Match object; span=(4507, 4519), match='786-555-6544'>\n",
      "<re.Match object; span=(4597, 4609), match='780-555-2574'>\n",
      "<re.Match object; span=(4685, 4697), match='926-555-8735'>\n",
      "<re.Match object; span=(4771, 4783), match='895-555-3539'>\n",
      "<re.Match object; span=(4868, 4880), match='874-555-3949'>\n",
      "<re.Match object; span=(4954, 4966), match='800-555-2420'>\n",
      "<re.Match object; span=(5043, 5055), match='936-555-6340'>\n",
      "<re.Match object; span=(5132, 5144), match='372-555-9809'>\n",
      "<re.Match object; span=(5219, 5231), match='890-555-5618'>\n",
      "<re.Match object; span=(5301, 5313), match='670-555-3005'>\n",
      "<re.Match object; span=(5391, 5403), match='509-555-5997'>\n",
      "<re.Match object; span=(5484, 5496), match='721-555-5632'>\n",
      "<re.Match object; span=(5575, 5587), match='900-555-3567'>\n",
      "<re.Match object; span=(5665, 5677), match='147-555-6830'>\n",
      "<re.Match object; span=(5754, 5766), match='582-555-3426'>\n",
      "<re.Match object; span=(5839, 5851), match='400-555-1706'>\n",
      "<re.Match object; span=(5930, 5942), match='525-555-1793'>\n",
      "<re.Match object; span=(6020, 6032), match='317-555-6700'>\n",
      "<re.Match object; span=(6108, 6120), match='974-555-8301'>\n",
      "<re.Match object; span=(6198, 6210), match='800-555-3216'>\n",
      "<re.Match object; span=(6284, 6296), match='746-555-4094'>\n",
      "<re.Match object; span=(6371, 6383), match='922-555-1773'>\n",
      "<re.Match object; span=(6456, 6468), match='711-555-4427'>\n",
      "<re.Match object; span=(6541, 6553), match='355-555-1872'>\n",
      "<re.Match object; span=(6630, 6642), match='852-555-6521'>\n",
      "<re.Match object; span=(6722, 6734), match='691-555-5773'>\n",
      "<re.Match object; span=(6814, 6826), match='332-555-5441'>\n",
      "<re.Match object; span=(6900, 6912), match='900-555-7755'>\n",
      "<re.Match object; span=(6982, 6994), match='379-555-3685'>\n",
      "<re.Match object; span=(7072, 7084), match='127-555-9682'>\n",
      "<re.Match object; span=(7163, 7175), match='789-555-7032'>\n",
      "<re.Match object; span=(7254, 7266), match='783-555-5135'>\n",
      "<re.Match object; span=(7347, 7359), match='315-555-6507'>\n",
      "<re.Match object; span=(7438, 7450), match='481-555-5835'>\n",
      "<re.Match object; span=(7526, 7538), match='365-555-8287'>\n",
      "<re.Match object; span=(7618, 7630), match='911-555-7535'>\n",
      "<re.Match object; span=(7704, 7716), match='681-555-2460'>\n",
      "<re.Match object; span=(7790, 7802), match='274-555-9800'>\n",
      "<re.Match object; span=(7875, 7887), match='800-555-1372'>\n",
      "<re.Match object; span=(7964, 7976), match='300-555-7821'>\n",
      "<re.Match object; span=(8054, 8066), match='133-555-3889'>\n",
      "<re.Match object; span=(8142, 8154), match='705-555-6863'>\n",
      "<re.Match object; span=(8231, 8243), match='215-555-9449'>\n",
      "<re.Match object; span=(8322, 8334), match='988-555-6112'>\n",
      "<re.Match object; span=(8408, 8420), match='623-555-3006'>\n",
      "<re.Match object; span=(8492, 8504), match='192-555-4977'>\n",
      "<re.Match object; span=(8577, 8589), match='178-555-4899'>\n",
      "<re.Match object; span=(8661, 8673), match='952-555-3089'>\n",
      "<re.Match object; span=(8754, 8766), match='900-555-6426'>\n"
     ]
    }
   ],
   "source": [
    "pattern = re.compile(r'\\d\\d\\d.\\d\\d\\d.\\d\\d\\d\\d')\n",
    "\n",
    "matches = pattern.finditer(content)\n",
    "\n",
    "for match in matches:\n",
    "    print(match)\n"
   ]
  },
  {
   "cell_type": "code",
   "execution_count": 17,
   "metadata": {},
   "outputs": [
    {
     "name": "stdout",
     "output_type": "stream",
     "text": [
      "<re.Match object; span=(63, 88), match='davemartin@bogusemail.com'>\n",
      "<re.Match object; span=(150, 178), match='charlesharris@bogusemail.com'>\n",
      "<re.Match object; span=(238, 266), match='laurawilliams@bogusemail.com'>\n",
      "<re.Match object; span=(328, 357), match='coreyjefferson@bogusemail.com'>\n",
      "<re.Match object; span=(428, 456), match='jenniferwhite@bogusemail.com'>\n",
      "<re.Match object; span=(520, 543), match='tomdavis@bogusemail.com'>\n",
      "<re.Match object; span=(604, 632), match='neilpatterson@bogusemail.com'>\n",
      "<re.Match object; span=(698, 727), match='laurajefferson@bogusemail.com'>\n",
      "<re.Match object; span=(790, 817), match='mariajohnson@bogusemail.com'>\n",
      "<re.Match object; span=(876, 904), match='michaelarnold@bogusemail.com'>\n",
      "<re.Match object; span=(967, 994), match='michaelsmith@bogusemail.com'>\n",
      "<re.Match object; span=(1054, 1081), match='robertstuart@bogusemail.com'>\n",
      "<re.Match object; span=(1142, 1168), match='lauramartin@bogusemail.com'>\n",
      "<re.Match object; span=(1232, 1260), match='barbaramartin@bogusemail.com'>\n",
      "<re.Match object; span=(1321, 1348), match='lindajackson@bogusemail.com'>\n",
      "<re.Match object; span=(1406, 1432), match='stevemiller@bogusemail.com'>\n",
      "<re.Match object; span=(1490, 1515), match='davearnold@bogusemail.com'>\n",
      "<re.Match object; span=(1578, 1607), match='jenniferjacobs@bogusemail.com'>\n",
      "<re.Match object; span=(1664, 1689), match='neilwilson@bogusemail.com'>\n",
      "<re.Match object; span=(1757, 1783), match='kurtjackson@bogusemail.com'>\n",
      "<re.Match object; span=(1840, 1865), match='maryjacobs@bogusemail.com'>\n",
      "<re.Match object; span=(1923, 1950), match='michaelwhite@bogusemail.com'>\n",
      "<re.Match object; span=(2015, 2045), match='jenniferjenkins@bogusemail.com'>\n",
      "<re.Match object; span=(2105, 2129), match='samwright@bogusemail.com'>\n",
      "<re.Match object; span=(2186, 2210), match='johndavis@bogusemail.com'>\n",
      "<re.Match object; span=(2267, 2291), match='neildavis@bogusemail.com'>\n",
      "<re.Match object; span=(2351, 2378), match='laurajackson@bogusemail.com'>\n",
      "<re.Match object; span=(2438, 2465), match='johnwilliams@bogusemail.com'>\n",
      "<re.Match object; span=(2526, 2554), match='michaelmartin@bogusemail.com'>\n",
      "<re.Match object; span=(2614, 2640), match='maggiebrown@bogusemail.com'>\n",
      "<re.Match object; span=(2697, 2722), match='kurtwilson@bogusemail.com'>\n",
      "<re.Match object; span=(2789, 2819), match='elizabetharnold@bogusemail.com'>\n",
      "<re.Match object; span=(2880, 2905), match='janemartin@bogusemail.com'>\n",
      "<re.Match object; span=(2975, 3003), match='travisjohnson@bogusemail.com'>\n",
      "<re.Match object; span=(3068, 3097), match='laurajefferson@bogusemail.com'>\n",
      "<re.Match object; span=(3157, 3183), match='tomwilliams@bogusemail.com'>\n",
      "<re.Match object; span=(3249, 3278), match='jennifertaylor@bogusemail.com'>\n",
      "<re.Match object; span=(3340, 3369), match='jenniferwright@bogusemail.com'>\n",
      "<re.Match object; span=(3425, 3448), match='stevedoe@bogusemail.com'>\n",
      "<re.Match object; span=(3505, 3529), match='kurtdavis@bogusemail.com'>\n",
      "<re.Match object; span=(3591, 3617), match='coreyharris@bogusemail.com'>\n",
      "<re.Match object; span=(3678, 3705), match='nicoletaylor@bogusemail.com'>\n",
      "<re.Match object; span=(3765, 3794), match='elizabethdavis@bogusemail.com'>\n",
      "<re.Match object; span=(3854, 3882), match='maggiejenkins@bogusemail.com'>\n",
      "<re.Match object; span=(3942, 3967), match='lindadavis@bogusemail.com'>\n",
      "<re.Match object; span=(4025, 4049), match='davemoore@bogusemail.com'>\n",
      "<re.Match object; span=(4109, 4136), match='lindajenkins@bogusemail.com'>\n",
      "<re.Match object; span=(4194, 4217), match='samwhite@bogusemail.com'>\n",
      "<re.Match object; span=(4278, 4306), match='laurarobinson@bogusemail.com'>\n",
      "<re.Match object; span=(4371, 4402), match='charlespatterson@bogusemail.com'>\n",
      "<re.Match object; span=(4464, 4489), match='joejackson@bogusemail.com'>\n",
      "<re.Match object; span=(4553, 4582), match='michaeljohnson@bogusemail.com'>\n",
      "<re.Match object; span=(4645, 4671), match='coreymiller@bogusemail.com'>\n",
      "<re.Match object; span=(4728, 4753), match='jamesmoore@bogusemail.com'>\n",
      "<re.Match object; span=(4822, 4851), match='jenniferstuart@bogusemail.com'>\n",
      "<re.Match object; span=(4913, 4941), match='charlesmartin@bogusemail.com'>\n",
      "<re.Match object; span=(5001, 5024), match='joewilks@bogusemail.com'>\n",
      "<re.Match object; span=(5088, 5118), match='elizabetharnold@bogusemail.com'>\n",
      "<re.Match object; span=(5178, 5203), match='johnmiller@bogusemail.com'>\n",
      "<re.Match object; span=(5261, 5288), match='coreyjackson@bogusemail.com'>\n",
      "<re.Match object; span=(5349, 5373), match='samthomas@bogusemail.com'>\n",
      "<re.Match object; span=(5438, 5467), match='patriciathomas@bogusemail.com'>\n",
      "<re.Match object; span=(5530, 5558), match='jenniferdavis@bogusemail.com'>\n",
      "<re.Match object; span=(5618, 5646), match='patriciabrown@bogusemail.com'>\n",
      "<re.Match object; span=(5709, 5739), match='barbarawilliams@bogusemail.com'>\n",
      "<re.Match object; span=(5799, 5825), match='jamestaylor@bogusemail.com'>\n",
      "<re.Match object; span=(5884, 5912), match='barbaraharris@bogusemail.com'>\n",
      "<re.Match object; span=(5976, 6005), match='travisanderson@bogusemail.com'>\n",
      "<re.Match object; span=(6065, 6091), match='samrobinson@bogusemail.com'>\n",
      "<re.Match object; span=(6156, 6184), match='steverobinson@bogusemail.com'>\n",
      "<re.Match object; span=(6246, 6271), match='marywilson@bogusemail.com'>\n",
      "<re.Match object; span=(6331, 6355), match='samwilson@bogusemail.com'>\n",
      "<re.Match object; span=(6415, 6442), match='charlesjones@bogusemail.com'>\n",
      "<re.Match object; span=(6503, 6528), match='laurabrown@bogusemail.com'>\n",
      "<re.Match object; span=(6588, 6612), match='tomharris@bogusemail.com'>\n",
      "<re.Match object; span=(6674, 6703), match='patriciataylor@bogusemail.com'>\n",
      "<re.Match object; span=(6767, 6797), match='barbarawilliams@bogusemail.com'>\n",
      "<re.Match object; span=(6858, 6886), match='maggiejohnson@bogusemail.com'>\n",
      "<re.Match object; span=(6943, 6968), match='kurtmiller@bogusemail.com'>\n",
      "<re.Match object; span=(7029, 7054), match='neilstuart@bogusemail.com'>\n",
      "<re.Match object; span=(7118, 7147), match='lindapatterson@bogusemail.com'>\n",
      "<re.Match object; span=(7206, 7233), match='charlesdavis@bogusemail.com'>\n",
      "<re.Match object; span=(7300, 7332), match='jenniferjefferson@bogusemail.com'>\n",
      "<re.Match object; span=(7397, 7423), match='coreytaylor@bogusemail.com'>\n",
      "<re.Match object; span=(7483, 7509), match='robertwilks@bogusemail.com'>\n",
      "<re.Match object; span=(7573, 7601), match='travisjackson@bogusemail.com'>\n",
      "<re.Match object; span=(7662, 7690), match='travisjackson@bogusemail.com'>\n",
      "<re.Match object; span=(7751, 7776), match='laurawilks@bogusemail.com'>\n",
      "<re.Match object; span=(7834, 7859), match='neilarnold@bogusemail.com'>\n",
      "<re.Match object; span=(7919, 7946), match='lindajohnson@bogusemail.com'>\n",
      "<re.Match object; span=(8010, 8039), match='jenniferwilson@bogusemail.com'>\n",
      "<re.Match object; span=(8101, 8127), match='nicolewhite@bogusemail.com'>\n",
      "<re.Match object; span=(8188, 8214), match='mariaarnold@bogusemail.com'>\n",
      "<re.Match object; span=(8277, 8305), match='jenniferdavis@bogusemail.com'>\n",
      "<re.Match object; span=(8366, 8394), match='marypatterson@bogusemail.com'>\n",
      "<re.Match object; span=(8452, 8477), match='janestuart@bogusemail.com'>\n",
      "<re.Match object; span=(8536, 8562), match='robertdavis@bogusemail.com'>\n",
      "<re.Match object; span=(8621, 8647), match='jamestaylor@bogusemail.com'>\n",
      "<re.Match object; span=(8712, 8737), match='johnstuart@bogusemail.com'>\n",
      "<re.Match object; span=(8807, 8835), match='charlesmiller@bogusemail.com'>\n"
     ]
    }
   ],
   "source": [
    "# Finding all mail from data.txt file \n",
    "\n",
    "pattern = re.compile(r'[A-Za-z0-9]+@[A-Za-z0-9]+\\.[A-Za-z0-9]+')  \n",
    "\n",
    "matches = pattern.finditer(content)\n",
    "\n",
    "for match in matches:\n",
    "    print(match)"
   ]
  },
  {
   "cell_type": "markdown",
   "metadata": {},
   "source": [
    "###  Urls "
   ]
  },
  {
   "cell_type": "code",
   "execution_count": 18,
   "metadata": {},
   "outputs": [],
   "source": [
    "urls = \"\"\"\n",
    "https://www.google.com\n",
    "https://facebook.com\n",
    "http://aniketbook.com\n",
    "https://www.nasa.gov\n",
    "\"\"\""
   ]
  },
  {
   "cell_type": "code",
   "execution_count": 19,
   "metadata": {},
   "outputs": [
    {
     "name": "stdout",
     "output_type": "stream",
     "text": [
      "https://www.google.com\n",
      "https://facebook.com\n",
      "http://aniketbook.com\n",
      "https://www.nasa.gov\n"
     ]
    }
   ],
   "source": [
    "pattern = re.compile(r'https?://(www\\.)?\\w+\\.\\w+')  \n",
    "\n",
    "matches = pattern.finditer(urls)\n",
    "\n",
    "for match in matches:\n",
    "    print(match.group(0))"
   ]
  },
  {
   "cell_type": "markdown",
   "metadata": {},
   "source": [
    "# findall()"
   ]
  },
  {
   "cell_type": "code",
   "execution_count": 20,
   "metadata": {},
   "outputs": [
    {
     "name": "stdout",
     "output_type": "stream",
     "text": [
      "992-999-2242\n",
      "233.663.2222\n",
      "123*456*5241\n",
      "800-344-4523\n",
      "900-322-4755\n"
     ]
    }
   ],
   "source": [
    "\n",
    "pattern = re.compile(r'\\d{3}.\\d{3}.\\d{4}')\n",
    "\n",
    "matches = pattern.findall(text)\n",
    "\n",
    "for match in matches:\n",
    "    print(match)\n"
   ]
  },
  {
   "cell_type": "markdown",
   "metadata": {},
   "source": [
    "# Match()\n",
    "\n",
    "#### By Defualt match only see for first starting word in the string .."
   ]
  },
  {
   "cell_type": "code",
   "execution_count": 21,
   "metadata": {},
   "outputs": [
    {
     "name": "stdout",
     "output_type": "stream",
     "text": [
      "<re.Match object; span=(0, 2), match='my'>\n"
     ]
    }
   ],
   "source": [
    "t = 'my name is aniket'\n",
    "\n",
    "pattern = re.compile(r'my')\n",
    "\n",
    "matches = pattern.match(t)\n",
    "print(matches)"
   ]
  },
  {
   "cell_type": "code",
   "execution_count": 22,
   "metadata": {},
   "outputs": [
    {
     "name": "stdout",
     "output_type": "stream",
     "text": [
      "None\n"
     ]
    }
   ],
   "source": [
    "\n",
    "pattern = re.compile(r'name')\n",
    "\n",
    "matches = pattern.match(t)\n",
    "print(matches)"
   ]
  },
  {
   "cell_type": "markdown",
   "metadata": {},
   "source": [
    "# Search()\n",
    "\n",
    "#### It will search the word from string but it will take first founded word"
   ]
  },
  {
   "cell_type": "code",
   "execution_count": 23,
   "metadata": {},
   "outputs": [
    {
     "name": "stdout",
     "output_type": "stream",
     "text": [
      "<re.Match object; span=(3, 7), match='name'>\n"
     ]
    }
   ],
   "source": [
    "t = 'my name is aniket whats your name ?'\n",
    "\n",
    "pattern = re.compile(r'name')\n",
    "\n",
    "matches = pattern.search(t)\n",
    "print(matches)"
   ]
  },
  {
   "cell_type": "markdown",
   "metadata": {},
   "source": [
    "# Flag() \n",
    "\n",
    "##### it can ignore the case ..."
   ]
  },
  {
   "cell_type": "code",
   "execution_count": 24,
   "metadata": {},
   "outputs": [
    {
     "name": "stdout",
     "output_type": "stream",
     "text": [
      "<re.Match object; span=(11, 17), match='Aniket'>\n"
     ]
    }
   ],
   "source": [
    "t = 'my name is Aniket whats your name ?'\n",
    "\n",
    "pattern = re.compile(r'aniket',re.IGNORECASE)  # or use re.I \n",
    "\n",
    "matches = pattern.search(t)\n",
    "print(matches)"
   ]
  },
  {
   "cell_type": "code",
   "execution_count": null,
   "metadata": {},
   "outputs": [],
   "source": []
  }
 ],
 "metadata": {
  "kernelspec": {
   "display_name": "Python 3",
   "language": "python",
   "name": "python3"
  },
  "language_info": {
   "codemirror_mode": {
    "name": "ipython",
    "version": 3
   },
   "file_extension": ".py",
   "mimetype": "text/x-python",
   "name": "python",
   "nbconvert_exporter": "python",
   "pygments_lexer": "ipython3",
   "version": "3.7.6"
  }
 },
 "nbformat": 4,
 "nbformat_minor": 4
}
